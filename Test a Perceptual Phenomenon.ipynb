{
 "cells": [
  {
   "cell_type": "markdown",
   "metadata": {},
   "source": [
    "### Analyzing the Stroop Effect\n",
    "Perform the analysis in the space below. Remember to follow [the instructions](https://docs.google.com/document/d/1-OkpZLjG_kX9J6LIQ5IltsqMzVWjh36QpnP2RYpVdPU/pub?embedded=True) and review the [project rubric](https://review.udacity.com/#!/rubrics/71/view) before submitting. Once you've completed the analysis and write-up, download this file as a PDF or HTML file, upload that PDF/HTML into the workspace here (click on the orange Jupyter icon in the upper left then Upload), then use the Submit Project button at the bottom of this page. This will create a zip file containing both this .ipynb doc and the PDF/HTML doc that will be submitted for your project.\n",
    "\n",
    "\n",
    "(1) What is the independent variable? What is the dependent variable?"
   ]
  },
  {
   "cell_type": "markdown",
   "metadata": {},
   "source": [
    "The independent variable is whether or not the word being shown is the same color or not.  The depented variable is the reaction time between being shown the word and the response."
   ]
  },
  {
   "cell_type": "markdown",
   "metadata": {},
   "source": [
    "(2) What is an appropriate set of hypotheses for this task? Specify your null and alternative hypotheses, and clearly define any notation used. Justify your choices."
   ]
  },
  {
   "cell_type": "markdown",
   "metadata": {},
   "source": [
    "Hypothesis in words:\n",
    "-  Null Hypothesis: Within the population, there is no difference in reaction time to name the ink colors for both congruent and incongruent words. This is what we believe to be true\n",
    "\n",
    "-  Alternative Hypothesis: Within the population, the reaction time to name the ink colors for the congruent words is less than that of incongruent words. This is what needs to be proven true.\n",
    "\n",
    "Hypothesis mathmatically:\n",
    "-  H0(null): $\\mu$C == $\\mu$I\n",
    "-  H1(alternative): $\\mu$C < $\\mu$I\n",
    "\n",
    "where\n",
    "\n",
    "-  $\\mu$C= Congruent population mean reaction time\n",
    "-  $\\mu$I= Incongruent population mean reaction time"
   ]
  },
  {
   "cell_type": "markdown",
   "metadata": {},
   "source": [
    "Statistical test:\n",
    "\n",
    "-  Paired ttest(sample tested twice under different conditions) will show if difference in means of the sample performing the congruent and incongruent words is statistically significant.  Paired ttest will prove whether we fail to reject the null hypothesis or reject the null hypothesis.\n",
    "-  Confidence interval of 95%\n",
    "-  alpha: .05\n",
    "-  sample size =24\n",
    "-  assuming normal distribution\n",
    "\n"
   ]
  },
  {
   "cell_type": "markdown",
   "metadata": {},
   "source": [
    "(3) Report some descriptive statistics regarding this dataset. Include at least one measure of central tendency and at least one measure of variability. The name of the data file is 'stroopdata.csv'."
   ]
  },
  {
   "cell_type": "code",
   "execution_count": 1,
   "metadata": {},
   "outputs": [
    {
     "data": {
      "text/html": [
       "<div>\n",
       "<style>\n",
       "    .dataframe thead tr:only-child th {\n",
       "        text-align: right;\n",
       "    }\n",
       "\n",
       "    .dataframe thead th {\n",
       "        text-align: left;\n",
       "    }\n",
       "\n",
       "    .dataframe tbody tr th {\n",
       "        vertical-align: top;\n",
       "    }\n",
       "</style>\n",
       "<table border=\"1\" class=\"dataframe\">\n",
       "  <thead>\n",
       "    <tr style=\"text-align: right;\">\n",
       "      <th></th>\n",
       "      <th>Congruent</th>\n",
       "      <th>Incongruent</th>\n",
       "    </tr>\n",
       "  </thead>\n",
       "  <tbody>\n",
       "    <tr>\n",
       "      <th>0</th>\n",
       "      <td>12.079</td>\n",
       "      <td>19.278</td>\n",
       "    </tr>\n",
       "    <tr>\n",
       "      <th>1</th>\n",
       "      <td>16.791</td>\n",
       "      <td>18.741</td>\n",
       "    </tr>\n",
       "    <tr>\n",
       "      <th>2</th>\n",
       "      <td>9.564</td>\n",
       "      <td>21.214</td>\n",
       "    </tr>\n",
       "    <tr>\n",
       "      <th>3</th>\n",
       "      <td>8.630</td>\n",
       "      <td>15.687</td>\n",
       "    </tr>\n",
       "    <tr>\n",
       "      <th>4</th>\n",
       "      <td>14.669</td>\n",
       "      <td>22.803</td>\n",
       "    </tr>\n",
       "  </tbody>\n",
       "</table>\n",
       "</div>"
      ],
      "text/plain": [
       "   Congruent  Incongruent\n",
       "0     12.079       19.278\n",
       "1     16.791       18.741\n",
       "2      9.564       21.214\n",
       "3      8.630       15.687\n",
       "4     14.669       22.803"
      ]
     },
     "execution_count": 1,
     "metadata": {},
     "output_type": "execute_result"
    }
   ],
   "source": [
    "import pandas as pd\n",
    "import numpy as np\n",
    "import matplotlib.pyplot as plt\n",
    "%matplotlib inline\n",
    "df=pd.read_csv('stroopdata.csv')#read in dataset\n",
    "df.head()#check dataframe"
   ]
  },
  {
   "cell_type": "code",
   "execution_count": 2,
   "metadata": {},
   "outputs": [
    {
     "data": {
      "text/plain": [
       "(count    24.000000\n",
       " mean     14.051125\n",
       " std       3.559358\n",
       " min       8.630000\n",
       " 25%      11.895250\n",
       " 50%      14.356500\n",
       " 75%      16.200750\n",
       " max      22.328000\n",
       " Name: Congruent, dtype: float64, 14.3565)"
      ]
     },
     "execution_count": 2,
     "metadata": {},
     "output_type": "execute_result"
    }
   ],
   "source": [
    "#get measure of center and measure of spread for Congruent column\n",
    "df['Congruent'].describe(), df['Congruent'].median()"
   ]
  },
  {
   "cell_type": "code",
   "execution_count": 3,
   "metadata": {},
   "outputs": [
    {
     "data": {
      "text/plain": [
       "(12.141152859375003, 3.4844157127666331)"
      ]
     },
     "execution_count": 3,
     "metadata": {},
     "output_type": "execute_result"
    }
   ],
   "source": [
    "# get variance and std deviation for congruent column\n",
    "np.var(df['Congruent']),np.std(df['Congruent'])"
   ]
  },
  {
   "cell_type": "code",
   "execution_count": 4,
   "metadata": {},
   "outputs": [
    {
     "data": {
      "text/plain": [
       "(count    24.000000\n",
       " mean     22.015917\n",
       " std       4.797057\n",
       " min      15.687000\n",
       " 25%      18.716750\n",
       " 50%      21.017500\n",
       " 75%      24.051500\n",
       " max      35.255000\n",
       " Name: Incongruent, dtype: float64, 21.0175)"
      ]
     },
     "execution_count": 4,
     "metadata": {},
     "output_type": "execute_result"
    }
   ],
   "source": [
    "#get measure of center and measure of spread for Incongruent column\n",
    "df['Incongruent'].describe(),df['Incongruent'].median()"
   ]
  },
  {
   "cell_type": "code",
   "execution_count": 5,
   "metadata": {},
   "outputs": [
    {
     "data": {
      "text/plain": [
       "(22.052933826388891, 4.6960551345133172)"
      ]
     },
     "execution_count": 5,
     "metadata": {},
     "output_type": "execute_result"
    }
   ],
   "source": [
    "# get variance and std deviation for congruent column\n",
    "np.var(df['Incongruent']),np.std(df['Incongruent'])"
   ]
  },
  {
   "cell_type": "markdown",
   "metadata": {},
   "source": [
    "Congruent column:\n",
    "  -  Measures of center: median= 14.356s, mean = 14.051s\n",
    "  -  Measures of spread: min= 8.63s, max= 35.255s\n",
    "  -  Variability: var=12.121, std=3.484\n",
    "\n",
    "Incongruent column:\n",
    "  -  Measures of center: median= 21.017s, mean= 22.015s\n",
    "  -  Measures of spread: min= 15.687, max= 35.255\n",
    "  -  Variability: var=22.05, std=4.696\n"
   ]
  },
  {
   "cell_type": "markdown",
   "metadata": {},
   "source": [
    "(4) Provide one or two visualizations that show the distribution of the sample data. Write one or two sentences noting what you observe about the plot or plots."
   ]
  },
  {
   "cell_type": "code",
   "execution_count": 6,
   "metadata": {},
   "outputs": [
    {
     "data": {
      "image/png": "[encoded data removed]",
      "text/plain": [
       "<matplotlib.figure.Figure at 0x7efe9a1c1a58>"
      ]
     },
     "metadata": {},
     "output_type": "display_data"
    }
   ],
   "source": [
    "n=24\n",
    "ind=np.arange(n)\n",
    "width=0.5\n",
    "\n",
    "fig=plt.figure()\n",
    "ax=fig.add_subplot(111)\n",
    "yvals=df['Congruent']\n",
    "bar1=ax.bar(ind,yvals,width,color='r')\n",
    "\n",
    "zvals=df['Incongruent']\n",
    "bar2=ax.bar(ind+width,zvals,width,color='b')\n",
    "\n",
    "ax.set_ylabel('Reaction time (s)')\n",
    "ax.set_xticks(ind)\n",
    "ax.legend((bar1[0],bar2[0]),('Congruent','Incongruent'))\n",
    "plt.show()"
   ]
  },
  {
   "cell_type": "markdown",
   "metadata": {},
   "source": [
    "In this plot one can see the incongruent times are all higher than the congruent times."
   ]
  },
  {
   "cell_type": "code",
   "execution_count": 7,
   "metadata": {},
   "outputs": [
    {
     "data": {
      "image/png": "[encoded data removed]",
      "text/plain": [
       "<matplotlib.figure.Figure at 0x7efe9a200a90>"
      ]
     },
     "metadata": {},
     "output_type": "display_data"
    }
   ],
   "source": [
    "#box plot visualization \n",
    "df.plot.box()\n",
    "plt.ylabel('Reaction Time (s)')\n",
    "plt.show()"
   ]
  },
  {
   "cell_type": "markdown",
   "metadata": {},
   "source": [
    "In this box plot one can see the incongruent times are higher as well.  It is also noted there are two outliers for the incongruent times."
   ]
  },
  {
   "cell_type": "markdown",
   "metadata": {},
   "source": [
    "(5)  Now, perform the statistical test and report your results. What is your confidence level or Type I error associated with your test? What is your conclusion regarding the hypotheses you set up? Did the results match up with your expectations? **Hint:**  Think about what is being measured on each individual, and what statistic best captures how an individual reacts in each environment."
   ]
  },
  {
   "cell_type": "code",
   "execution_count": 8,
   "metadata": {},
   "outputs": [
    {
     "data": {
      "text/plain": [
       "Ttest_relResult(statistic=-8.020706944109957, pvalue=4.1030005857111781e-08)"
      ]
     },
     "execution_count": 8,
     "metadata": {},
     "output_type": "execute_result"
    }
   ],
   "source": [
    "#run paired ttest\n",
    "from scipy.stats import ttest_rel,t\n",
    "a=df['Congruent']\n",
    "b=df['Incongruent']\n",
    "ttest_rel(a,b)"
   ]
  },
  {
   "cell_type": "code",
   "execution_count": 9,
   "metadata": {},
   "outputs": [
    {
     "data": {
      "text/plain": [
       "1.7138715277470473"
      ]
     },
     "execution_count": 9,
     "metadata": {},
     "output_type": "execute_result"
    }
   ],
   "source": [
    "#t-critical value with 95% confidence interval, 23 degrees of freedom\n",
    "t.ppf(.95,23)"
   ]
  },
  {
   "cell_type": "markdown",
   "metadata": {},
   "source": [
    "-  t-statistic= 8.0201\n",
    "-  t-critical= 1.7138\n",
    "-  p-value= 4.103e-8"
   ]
  },
  {
   "cell_type": "markdown",
   "metadata": {},
   "source": [
    "I ran a paired t-test with type 1 error rate of .05.  The t statistic of 8.0207\n",
    "is greater than the critical value of 1.7138, thus rejecting the null hypothesis.  Further evidence is my p-value of 4.103e-08 is less than my type 1 error rate, thus indicating rejection of the null hypothesis.  By rejecting the null hypothesis we are saying the reaction time to name the ink colors of the congruent words is less than that of the incongruent words"
   ]
  },
  {
   "cell_type": "markdown",
   "metadata": {},
   "source": [
    "(6) Optional: What do you think is responsible for the effects observed? Can you think of an alternative or similar task that would result in a similar effect? Some research about the problem will be helpful for thinking about these two questions!"
   ]
  },
  {
   "cell_type": "markdown",
   "metadata": {},
   "source": [
    "The effects observed is because adults brains can process reading faster than it can interpret a color and then say it.  If someone who knew colors but are not great readers(small children) were to perform the test, the results would be reversed."
   ]
  },
  {
   "cell_type": "markdown",
   "metadata": {},
   "source": [
    "referneces:\n",
    "    -  https://matplotlib.org/examples/api/barchart_demo.html\n",
    "    -  https://docs.scipy.org/doc/scipy-0.14.0/reference/generated/scipy.stats.ttest_rel.html\n",
    "    "
   ]
  },
  {
   "cell_type": "code",
   "execution_count": null,
   "metadata": {},
   "outputs": [],
   "source": []
  }
 ],
 "metadata": {
  "kernelspec": {
   "display_name": "Python 3",
   "language": "python",
   "name": "python3"
  },
  "language_info": {
   "codemirror_mode": {
    "name": "ipython",
    "version": 3
   },
   "file_extension": ".py",
   "mimetype": "text/x-python",
   "name": "python",
   "nbconvert_exporter": "python",
   "pygments_lexer": "ipython3",
   "version": "3.7.0"
  }
 },
 "nbformat": 4,
 "nbformat_minor": 2
}
